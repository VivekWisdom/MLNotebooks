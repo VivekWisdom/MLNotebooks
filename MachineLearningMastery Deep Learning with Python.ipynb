{
 "cells": [
  {
   "cell_type": "markdown",
   "metadata": {},
   "source": [
    "# Introduction\n",
    "\n",
    "This notebook covers all the code and solutions in MachineLearningMastery.com's Deep Learning with Python 14 day mini course.\n",
    "\n",
    "Following topics are covered in this notebook:\n",
    "\n",
    "- Lesson 01: Introduction to Theano\n",
    "- Lesson 02: Introduction to TensorFlow\n",
    "- Lesson 03: Introduction to Keras\n",
    "- Lesson 04: Crash Course in Multilayer Perceptrons\n",
    "- Lesson 05: First Neural Net in Keras\n",
    "- Lesson 06: Use Keras Models With Scikit-Learn\n",
    "- Lesson 07: Plot Model Training History\n",
    "- Lesson 08: Save Your Best Model During Training With Checkpointing\n",
    "- Lesson 09: Reduce Overfitting With Dropout Regularization\n",
    "- Lesson 10: Lift Performance With Learning Rate Schedules\n",
    "- Lesson 11: Crash Course in Convolutional Neural Networks\n",
    "- Lesson 12: Handwritten Digit Recognition\n",
    "- Lesson 13: Object Recognition in Small Photographs\n",
    "- Lesson 14: Improve Generalization With Data Augmentation"
   ]
  },
  {
   "cell_type": "markdown",
   "metadata": {},
   "source": [
    "# Environment Setup\n",
    "\n",
    "I am using python 3.6.2 in a virtual environment with all the common data science libraries installed."
   ]
  },
  {
   "cell_type": "markdown",
   "metadata": {},
   "source": [
    "## Lesson 01: Introduction to Theano"
   ]
  },
  {
   "cell_type": "code",
   "execution_count": null,
   "metadata": {
    "collapsed": true
   },
   "outputs": [],
   "source": []
  }
 ],
 "metadata": {
  "kernelspec": {
   "display_name": "Python (Tensorflow)",
   "language": "python",
   "name": "tensorflow"
  },
  "language_info": {
   "codemirror_mode": {
    "name": "ipython",
    "version": 3
   },
   "file_extension": ".py",
   "mimetype": "text/x-python",
   "name": "python",
   "nbconvert_exporter": "python",
   "pygments_lexer": "ipython3",
   "version": "3.6.2"
  }
 },
 "nbformat": 4,
 "nbformat_minor": 2
}
